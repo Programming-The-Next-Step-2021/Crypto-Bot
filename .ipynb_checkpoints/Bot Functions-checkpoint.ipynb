{
 "cells": [
  {
   "cell_type": "markdown",
   "id": "688dd5a4",
   "metadata": {},
   "source": [
    "# CRYPTO BOT\n",
    "\n",
    "Disclaimer: This program is not intended as serious financial advice. If the program makes a suggestion, you should ALWAYS do your research and make your own informed decisions. Beware, sometimes the best predictions are Elon Musk's tweets :P\n",
    "\n",
    "This program allows users to select one of their favorite cryptocurrencies and obtain the most up-to-date value in the market. Furthermore, the program contains a trading bot that suggests what to do with that crypto at this moment. Should you buy? Is it a good time to sell? The Crypto bot uses the Relative Strength Index (RSI) to run this calculation, so that you could sit back and relax, while the bot does all the work for you.\n",
    "\n",
    "Furthermore, if you can't to explore the behavior of a cryptocurrency from the past, you can do that by just specifying some parameters. It is super easy. \n",
    "\n",
    "Don't miss out on the next bull market. Keep calm, grab your favorite drink and watch how Elon Musk destroys everything."
   ]
  },
  {
   "cell_type": "markdown",
   "id": "4e26cd94",
   "metadata": {},
   "source": [
    "### Functions"
   ]
  },
  {
   "cell_type": "markdown",
   "id": "90978cfa",
   "metadata": {},
   "source": [
    "### Retrieve current price"
   ]
  },
  {
   "cell_type": "markdown",
   "id": "5bdf0cc7",
   "metadata": {},
   "source": [
    "This function retrieves the current price of the crypto from the CoinMarketCap.com API (in USD).\n",
    "The user must input the symbol of their desired coin."
   ]
  },
  {
   "cell_type": "code",
   "execution_count": 8,
   "id": "ce6e1981",
   "metadata": {},
   "outputs": [],
   "source": [
    "import json\n",
    "import requests\n",
    "from requests import Session\n",
    "\n",
    "\n",
    "url = 'https://pro-api.coinmarketcap.com/v1/cryptocurrency/quotes/latest'\n",
    "\n",
    "coin = 'litecoin'\n",
    "def bot_api(coin):\n",
    "    global data\n",
    "\n",
    "    parameters = {\n",
    "        'symbol': coin,\n",
    "        'convert': \"usd\"\n",
    "    }\n",
    "\n",
    "    headers = {\n",
    "        'Accepts': 'application/json',\n",
    "        'X-CMC_PRO_API_KEY': '31233140-af13-4dd0-ad7e-1bdb98b80470'\n",
    "    }\n",
    "\n",
    "    session = Session()\n",
    "    session.headers.update(headers)\n",
    "\n",
    "    response = session.get(url, params = parameters)\n",
    "\n",
    "    result = json.loads(response.text)['data']\n",
    "    result = list(result)\n",
    "    number = result[0]\n",
    "\n",
    "    result = json.loads(response.text)['data'][str(number)]['quote']['USD']['price']\n",
    "\n",
    "    return(result)"
   ]
  },
  {
   "cell_type": "markdown",
   "id": "9b412b0d",
   "metadata": {},
   "source": [
    "#### Example"
   ]
  },
  {
   "cell_type": "code",
   "execution_count": 52,
   "id": "a20460f6",
   "metadata": {},
   "outputs": [
    {
     "data": {
      "text/plain": [
       "2369.3446384777594"
      ]
     },
     "execution_count": 52,
     "metadata": {},
     "output_type": "execute_result"
    }
   ],
   "source": [
    "#Current price of Ethereum (30/May 15:33)\n",
    "bot_api('eth')"
   ]
  },
  {
   "cell_type": "code",
   "execution_count": 11,
   "id": "a6f16105",
   "metadata": {},
   "outputs": [
    {
     "data": {
      "text/plain": [
       "36278.33979143302"
      ]
     },
     "execution_count": 11,
     "metadata": {},
     "output_type": "execute_result"
    }
   ],
   "source": [
    "#Current price of Bitcoin (30/May 15:33)\n",
    "bot_api('btc')"
   ]
  },
  {
   "cell_type": "markdown",
   "id": "76c38016",
   "metadata": {},
   "source": [
    "### Obtain on-going crypto prices"
   ]
  },
  {
   "cell_type": "markdown",
   "id": "311285ce",
   "metadata": {},
   "source": [
    "This function retrieves data from the binance websocket. Every second, it receives the current price of the selected crypto in USD."
   ]
  },
  {
   "cell_type": "code",
   "execution_count": 17,
   "id": "8ecec57f",
   "metadata": {},
   "outputs": [],
   "source": [
    "import asyncio\n",
    "import websocket\n",
    "import websockets\n",
    "import time\n",
    "import datetime as dt\n",
    "\n",
    "async def main(symbol, prices):\n",
    "    global xdata\n",
    "    global results\n",
    "\n",
    "    url = \"wss://stream.binance.com:9443/stream?streams=\" + symbol + \"usdt@miniTicker\"\n",
    "    async with websockets.connect(url) as client:\n",
    "        global xdata\n",
    "        for x in range(prices):\n",
    "        # while len(xdata) < prices:\n",
    "            data = json.loads(await client.recv())['data']\n",
    "\n",
    "            event_time = time.localtime(data['E'] // 1000)\n",
    "            event_time = f\"{event_time.tm_hour}:{event_time.tm_min}:{event_time.tm_sec}\"\n",
    "\n",
    "            print(event_time, data['c'])\n",
    "            a = data['c']\n",
    "            results.append(a)\n",
    "\n",
    "            print(x)\n",
    "        return(results)\n",
    "\n",
    "def run_bot2(symbol, prices):\n",
    "    if __name__ == '__main__':\n",
    "        loop = asyncio.get_event_loop()\n",
    "        loop.run_until_complete(main(symbol, prices))\n",
    "        return(results)"
   ]
  },
  {
   "cell_type": "markdown",
   "id": "b9b9011d",
   "metadata": {},
   "source": [
    "#### Example"
   ]
  },
  {
   "cell_type": "code",
   "execution_count": 39,
   "id": "5359a953",
   "metadata": {},
   "outputs": [
    {
     "data": {
      "text/html": [
       "<video src=\"run_bot2_demo.mov\" controls  >\n",
       "      Your browser does not support the <code>video</code> element.\n",
       "    </video>"
      ],
      "text/plain": [
       "<IPython.core.display.Video object>"
      ]
     },
     "execution_count": 39,
     "metadata": {},
     "output_type": "execute_result"
    }
   ],
   "source": [
    "#run_bot2('btc', 15)\n",
    "\n",
    "from IPython.display import Video\n",
    "Video('run_bot2_demo.mov')\n"
   ]
  },
  {
   "cell_type": "markdown",
   "id": "f9db82bd",
   "metadata": {},
   "source": [
    "### Technical Analysis - RSI"
   ]
  },
  {
   "cell_type": "markdown",
   "id": "812bb1f8",
   "metadata": {},
   "source": [
    "This function suggest the user if it's a good time to sell/buy or retain their crypto, based on the Relative Strength Index (RSI). For more info on the RSI, visit: https://www.fidelity.com/learning-center/trading-investing/technical-analysis/technical-indicator-guide/RSI\n",
    "\n",
    "It runs the run_bot2 function and, after 15 seconds elapse (also, 15 crypto values), it gives a suggestion."
   ]
  },
  {
   "cell_type": "code",
   "execution_count": 51,
   "id": "407558e9",
   "metadata": {},
   "outputs": [],
   "source": [
    "import talib\n",
    "import numpy as npy\n",
    "def rsi(symbol, prices):\n",
    "    df = run_bot2(symbol, prices)\n",
    "    print(df)\n",
    "    df = np.array(df, dtype='f8')\n",
    "\n",
    "    #Buy or sell, depending on the RSI value\n",
    "    rsi = talib.RSI(df, RSI_PERIOD)\n",
    "    # print(rsi)\n",
    "    last_rsi = rsi[-1]\n",
    "    print(last_rsi)\n",
    "    if last_rsi > RSI_OVERBOUGHT:\n",
    "        decision = \"BEARISH: SELL YOUR CRYPTO NOW\"\n",
    "        # if in_position:\n",
    "        #     print(\"Bearish: But, you can't sell what you don't have\")\n",
    "        #     # Binance selling order\n",
    "\n",
    "    if last_rsi < RSI_OVERSOLD:\n",
    "        decision = \"BULLISH: BUUUUY, TO THE MOON\"\n",
    "        # if in_position:\n",
    "        #     print(\"Bullish: You have some already, move on\")\n",
    "        #     # Binance buying order\n",
    "\n",
    "    if last_rsi > RSI_OVERSOLD and last_rsi < RSI_OVERBOUGHT:\n",
    "        decision = \"RELAX AND DO NOTHING\"\n",
    "    print(decision)\n",
    "\n",
    "    last_rsi = round(last_rsi, 2)\n",
    "    return(last_rsi, decision)"
   ]
  },
  {
   "cell_type": "markdown",
   "id": "34c863ad",
   "metadata": {},
   "source": [
    "#### Example\n",
    "\n",
    "It saves the last 15 values in an array and it calculates the RSI\n",
    "- If RSI > 70 = Market is bearish/overbought, you should sell now\n",
    "- If 30 < RSI > 70 = Market is stable, you should not do anything\n",
    "- If RSI < 30 = Market is bullish/oversold, you should buy now"
   ]
  },
  {
   "cell_type": "code",
   "execution_count": 40,
   "id": "9ad7099f",
   "metadata": {},
   "outputs": [
    {
     "data": {
      "image/png": "[encoded data removed]",
      "text/plain": [
       "<IPython.core.display.Image object>"
      ]
     },
     "execution_count": 40,
     "metadata": {},
     "output_type": "execute_result"
    }
   ],
   "source": [
    "# rsi('btc', 15)\n",
    "\n",
    "from IPython.display import Image\n",
    "Image('RSI_demo.png')"
   ]
  },
  {
   "cell_type": "markdown",
   "id": "6e0b463e",
   "metadata": {},
   "source": [
    "### Historical Data"
   ]
  },
  {
   "cell_type": "markdown",
   "id": "63cdf8c2",
   "metadata": {},
   "source": [
    "This function allows the user to observe the graphical behavior of a selected crypto in any historical timeframe. For example, the bitcoin 1h interval price from 2020/04/01 until 2020/05/01.\n",
    "\n",
    "Note: The limit for possible values is 1000. For example:\n",
    "1) if I want to get an hourly graph of bitcoin from 2020/01/01 to 2021/01/01 it won't be possible because (1h * 24h/day * 30days * 12 months) > 1000.   \n",
    "\n",
    "2) If you want an hourly graph of bitcoin from 2020/April/01 to 2020/May/01, it is possible because (1h * 24h/day * 30days * 1month) < 1000."
   ]
  },
  {
   "cell_type": "code",
   "execution_count": 49,
   "id": "d5240d01",
   "metadata": {},
   "outputs": [],
   "source": [
    "import json\n",
    "import datetime as dt\n",
    "import pandas as pd\n",
    "import matplotlib.pyplot as plt\n",
    "\n",
    "def historical(symbol, interval, startYear, startMonth, startDay, endYear, endMonth, endDay):\n",
    "    global df\n",
    "\n",
    "    url = 'https://api.binance.com/api/v3/klines'\n",
    "\n",
    "    symbol = symbol.upper()\n",
    "    startTime = str(int(dt.datetime(startYear,startMonth,startDay).timestamp() * 1000))\n",
    "    endTime = str(int(dt.datetime(endYear,endMonth,endDay).timestamp() * 1000))\n",
    "    limit = '1000'\n",
    "\n",
    "    req_params = {'symbol': symbol + 'USDT', 'interval': interval, 'startTime': startTime, \n",
    "    'endTime': endTime, 'limit': limit}\n",
    "\n",
    "    df = pd.DataFrame(json.loads(requests.get(url, params = req_params).text))\n",
    "\n",
    "    df = df.iloc[:, 0:6]\n",
    "\n",
    "    df.columns =  ['datetime', 'open', 'high', 'low', 'close', 'volume']\n",
    "\n",
    "    df.index = [dt.datetime.fromtimestamp(x / 1000.0) for x in df.datetime]\n",
    "    df['close'] = df['close'].astype(float)\n",
    "    df['close'].plot()\n",
    "    plt.show()\n",
    "    #return df"
   ]
  },
  {
   "cell_type": "code",
   "execution_count": 54,
   "id": "d1555299",
   "metadata": {},
   "outputs": [
    {
     "data": {
      "image/png": "[encoded data removed]",
      "text/plain": [
       "<Figure size 432x288 with 1 Axes>"
      ]
     },
     "metadata": {
      "needs_background": "light"
     },
     "output_type": "display_data"
    }
   ],
   "source": [
    "historical('btc', '1h', 2020,4,1,2020,5,1)"
   ]
  },
  {
   "cell_type": "markdown",
   "id": "e326a84e",
   "metadata": {},
   "source": [
    "For more information on how to use the GUI, please visit the Crypto GUI vignette."
   ]
  }
 ],
 "metadata": {
  "kernelspec": {
   "display_name": "Python 3",
   "language": "python",
   "name": "python3"
  },
  "language_info": {
   "codemirror_mode": {
    "name": "ipython",
    "version": 3
   },
   "file_extension": ".py",
   "mimetype": "text/x-python",
   "name": "python",
   "nbconvert_exporter": "python",
   "pygments_lexer": "ipython3",
   "version": "3.9.5"
  }
 },
 "nbformat": 4,
 "nbformat_minor": 5
}
