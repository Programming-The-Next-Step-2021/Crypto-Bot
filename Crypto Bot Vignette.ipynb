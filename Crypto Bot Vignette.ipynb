{
 "cells": [
  {
   "cell_type": "markdown",
   "id": "894c8332",
   "metadata": {},
   "source": [
    "# Crypto Bot"
   ]
  },
  {
   "cell_type": "markdown",
   "id": "38dd6abc",
   "metadata": {},
   "source": [
    "Disclaimer: This software is built solely as an educational bot. It is not intended to provide any financial advice. DON?T FOLLOW WHAT THIS BOT SUGGESTS. Make your own research and make your own decisions.\n",
    "\n",
    "[TL;DR]\n",
    "This package allows you to:\n",
    "- See the live price of your crypto (number or graph)\n",
    "- See historical price of your crypto\n",
    "- Get an automated technical analysis suggestion of buying/selling/retaining your crypto\n",
    "\n",
    "\n",
    "Crypto Bot is a resource that allows users to keep track of their favorite cryptocurrencies in real time, observe historical data and get algorithmic technical analysis insight into the market - should you buy, retain or sell at this moment? No worries, just set your parameters in the GUI and the bot will help you make less emotional decisions.\n",
    "\n",
    "Most cryptocurrencies from the market are available - unless you want to choose the one that the cousin of your neigbor is just starting to code. We don't have acces to that one, yet. Historical data can be retrieved in 24 hours intervals for any time range that doesn't exceed two years. If you want to get historical data from 1h intervals, the limit is data from month in the past. \n",
    "Additionally, the GUI has a programmed trading bot that will be making suggestions so that you can know when is it the best time to sell/buy/retain. \n",
    "Note: The technical indicator in this bot is the Relative Strength Index (RSI), which measures if a coin is being oversold or overbought. For more information on the RSI, visit: https://www.investopedia.com/terms/r/rsi.asp#:~:text=The%20relative%20strength%20index%20(RSI)%20is%20a%20momentum%20indicator%20used,a%20stock%20or%20other%20asset.&text=An%20RSI%20reading%20of%2030,an%20oversold%20or%20undervalued%20condition."
   ]
  },
  {
   "cell_type": "markdown",
   "id": "3d43ff1f",
   "metadata": {},
   "source": [
    "#### Why you should use  a trading bot?\n",
    "Because you won't have to be sitting all day waiting for the market to move. Instead, you can have your bot do that for you. You don't have to miss out again on the next bull market while you're focusing your time on other things.\n",
    "\n",
    "\n",
    "#### Example of use\n",
    "If you want to get the current price of Ethereum, alongside a constant update of the price in a graph and how the coin has behaved hourly in the past month in order to take a decision about selling/buying. No worries, just input a couple of things in the GUI, click the associated buttons and there you go - a Warren Buffet on the making. \n"
   ]
  },
  {
   "cell_type": "markdown",
   "id": "6d5eaea5",
   "metadata": {},
   "source": [
    "## First, let's define the functions"
   ]
  },
  {
   "cell_type": "markdown",
   "id": "b85ec6e0",
   "metadata": {},
   "source": [
    "This function takes in an argument that could be any real name of a coin. Then, it communicates with the API from CoinMarketCap.com, handles the JSON data and returns the current price in USD of the cryptocurrency. \n",
    "\n",
    "All functions are called with the ease of a button-click.\n",
    "\n",
    "Note: In this example, I'm using a fake API_KEY. You should go to the website of CoinMarketCap.com and create your own API key for this to work"
   ]
  },
  {
   "cell_type": "code",
   "execution_count": 4,
   "id": "2b48e11c",
   "metadata": {},
   "outputs": [],
   "source": [
    "def bot_api(coin):\n",
    "    global data\n",
    "\n",
    "    parameters = {\n",
    "        'slug': coin,\n",
    "        'convert': \"usd\"\n",
    "    }\n",
    "\n",
    "    headers = {\n",
    "        'Accepts': 'application/json',\n",
    "        'X-CMC_PRO_API_KEY': '312456140-af13-4aa0-ad7e-1bdb98b80470'\n",
    "    }\n",
    "\n",
    "    session = Session()\n",
    "    session.headers.update(headers)\n",
    "\n",
    "    response = session.get(url, params = parameters)\n",
    "\n",
    "    result = json.loads(response.text)['data']\n",
    "    result = list(result)\n",
    "    number = result[0]\n",
    "  \n",
    "    result = json.loads(response.text)['data'][str(number)]['quote']['USD']['price']\n",
    "\n",
    "    return(result)"
   ]
  },
  {
   "cell_type": "markdown",
   "id": "6fa1a5f0",
   "metadata": {},
   "source": [
    "The following function allows the GUI to display the result from the last function. Everytime the button is clicked, the last result is deleted and the current price is shown."
   ]
  },
  {
   "cell_type": "code",
   "execution_count": 5,
   "id": "e035ac77",
   "metadata": {},
   "outputs": [],
   "source": [
    "def crypto_price(coin):\n",
    "    result = bot_api(coin)\n",
    "    entry_results.delete(0, END)\n",
    "    entry_results.insert(0, str(result))"
   ]
  },
  {
   "cell_type": "markdown",
   "id": "d258910b",
   "metadata": {},
   "source": [
    "The following function takes in the coin name and displays the official logo of your cryptocurrency on the side of the current price as a .png\n",
    "\n",
    "Note: As of now, it only displays the logo for bitcoin, ethereum, cardano, dogecoin and litecoin. If your favorite crypto coin is not one of the above, no image is shown."
   ]
  },
  {
   "cell_type": "code",
   "execution_count": 6,
   "id": "22d02009",
   "metadata": {},
   "outputs": [],
   "source": [
    "def add_image(coin):\n",
    "    global my_image\n",
    "    initial_coin = coin\n",
    "    coin_path = 'logos/'\n",
    "    index = '.png'\n",
    "    final_coin =  coin_path + coin + index\n",
    "    filepath = final_coin\n",
    "    my_image = tk.PhotoImage(file=filepath)\n",
    "    coin_image.delete('1.0', END)\n",
    "    coin_image.image_create(END, image = my_image)\n"
   ]
  },
  {
   "cell_type": "markdown",
   "id": "3316dc4e",
   "metadata": {},
   "source": [
    "The following is an asynchronous function that uses a websocket from Binance. It take in the symbol of your favorite cryptocurrency and sends the necessary information to the update_graph() function. "
   ]
  },
  {
   "cell_type": "code",
   "execution_count": null,
   "id": "6fa155b9",
   "metadata": {},
   "outputs": [],
   "source": [
    "async def main(symbol):\n",
    "    url = \"wss://stream.binance.com:9443/stream?streams=\" + symbol + \"usdt@miniTicker\"\n",
    "    async with websockets.connect(url) as client:\n",
    "        while True:\n",
    "            data = json.loads(await client.recv())['data']\n",
    "\n",
    "            event_time = time.localtime(data['E'] // 1000)\n",
    "            event_time = f\"{event_time.tm_hour}:{event_time.tm_min}:{event_time.tm_sec}\"\n",
    "\n",
    "            print(event_time, data['c'])\n",
    "\n",
    "            xdata.append(event_time)\n",
    "            ydata.append(int(float(data['c'])))\n",
    "\n",
    "            update_graph()\n",
    "            \n",
    "def run_bot2(symbol):\n",
    "    if __name__ == '__main__':\n",
    "        loop = asyncio.get_event_loop()\n",
    "        loop.run_until_complete(main(symbol))"
   ]
  },
  {
   "cell_type": "markdown",
   "id": "f945dd3c",
   "metadata": {},
   "source": [
    "The following functions plot the data provided by the websocket. This allows the user to observe the live behavior of its chosen crypto in a beautiful graph. You can see a graph below as an example."
   ]
  },
  {
   "cell_type": "code",
   "execution_count": 7,
   "id": "934bbca9",
   "metadata": {},
   "outputs": [],
   "source": [
    "def show_plot():\n",
    "    global ax\n",
    "    global fig\n",
    "\n",
    "    fig = plt.figure()\n",
    "    ax = fig.add_subplot(111)\n",
    "    fig.show()\n",
    "\n",
    "def update_graph():\n",
    "    ax.plot(xdata, ydata, color='g')\n",
    "    ax.legend([f\"Last price: {ydata[-1]}$\"])\n",
    "\n",
    "    fig.canvas.draw()\n",
    "    ax.axes.get_xaxis().set_visible(False)    \n",
    "    plt.pause(0.1)"
   ]
  },
  {
   "cell_type": "markdown",
   "id": "392a8ad9",
   "metadata": {},
   "source": [
    "If the users wants to observe the historical candlestick behavior of a cryptocurrency (graphically), this function is called via a button in the GUI.\n",
    "\n",
    "The user needs to specify the desired crypto symbol, an interval (1h or 24 h), the starting date and the end date. "
   ]
  },
  {
   "cell_type": "code",
   "execution_count": null,
   "id": "e01a3522",
   "metadata": {},
   "outputs": [],
   "source": [
    "def historical(symbol, interval, start, end):\n",
    "    global df\n",
    "\n",
    "    url = 'https://api.binance.com/api/v3/klines'\n",
    "\n",
    "    symbol = symbol.upper()\n",
    "\n",
    "    startTime = str(int(dt.datetime(2020,start,1).timestamp() * 1000))\n",
    "    endTime = str(int(dt.datetime(2020,end,1).timestamp() * 1000))\n",
    "    limit = '1000'\n",
    "\n",
    "    req_params = {'symbol': symbol + 'USDT', 'interval': interval, 'startTime': startTime, \n",
    "    'endTime': endTime, 'limit': limit}\n",
    "\n",
    "    df = pd.DataFrame(json.loads(requests.get(url, params = req_params).text))\n",
    "\n",
    "    df = df.iloc[:, 0:6]\n",
    "\n",
    "    df.columns =  ['datetime', 'open', 'high', 'low', 'close', 'volume']\n",
    "\n",
    "    df.index = [dt.datetime.fromtimestamp(x / 1000.0) for x in df.datetime]\n",
    "\n",
    "    df['close'] = df['close'].astype(float)\n",
    "    df['close'].plot()\n",
    "    plt.show()\n",
    "    return df"
   ]
  },
  {
   "cell_type": "markdown",
   "id": "606c1025",
   "metadata": {},
   "source": [
    "Now, we need to assing some values to the objects"
   ]
  },
  {
   "cell_type": "code",
   "execution_count": 8,
   "id": "d957470c",
   "metadata": {},
   "outputs": [],
   "source": [
    "#This is the url of the CoinMarketCao API - it tells you the latest price\n",
    "url = 'https://pro-api.coinmarketcap.com/v1/cryptocurrency/quotes/latest'\n",
    "\n",
    "#Assing an empty list to the x, y of the live graph\n",
    "xdata = []\n",
    "ydata = []"
   ]
  },
  {
   "cell_type": "markdown",
   "id": "3b1c3b67",
   "metadata": {},
   "source": [
    "# GUI"
   ]
  },
  {
   "cell_type": "code",
   "execution_count": 10,
   "id": "4a257f8a",
   "metadata": {
    "scrolled": true
   },
   "outputs": [
    {
     "data": {
      "image/png": "[encoded data removed]",
      "text/plain": [
       "<IPython.core.display.Image object>"
      ]
     },
     "metadata": {},
     "output_type": "display_data"
    }
   ],
   "source": [
    "from IPython.display import display, Image\n",
    "\n",
    "display(Image(filename='/Users/deborastein/Dropbox/Mi Mac (MacBook-Air-de-DEBORA.local)/Desktop/Gui.png'))"
   ]
  },
  {
   "cell_type": "code",
   "execution_count": null,
   "id": "d3e7cc91",
   "metadata": {},
   "outputs": [],
   "source": []
  }
 ],
 "metadata": {
  "kernelspec": {
   "display_name": "Python 3",
   "language": "python",
   "name": "python3"
  },
  "language_info": {
   "codemirror_mode": {
    "name": "ipython",
    "version": 3
   },
   "file_extension": ".py",
   "mimetype": "text/x-python",
   "name": "python",
   "nbconvert_exporter": "python",
   "pygments_lexer": "ipython3",
   "version": "3.9.5"
  }
 },
 "nbformat": 4,
 "nbformat_minor": 5
}
